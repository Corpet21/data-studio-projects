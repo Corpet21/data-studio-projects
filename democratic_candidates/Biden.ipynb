{
 "cells": [
  {
   "cell_type": "code",
   "execution_count": 1,
   "metadata": {},
   "outputs": [],
   "source": [
    "import pandas as pd\n",
    "import requests\n",
    "from bs4 import BeautifulSoup"
   ]
  },
  {
   "cell_type": "code",
   "execution_count": 2,
   "metadata": {},
   "outputs": [],
   "source": [
    "response = requests.get(\"https://www.c-span.org/search/?sdate=04%2F26%2F2019&edate=06%2F25%2F2019&searchtype=Videos&sort=Most+Recent+Event&text=0&all%5B%5D=joe&all%5B%5D=biden&tagid%5B%5D=246\")\n",
    "doc = BeautifulSoup(response.text)"
   ]
  },
  {
   "cell_type": "code",
   "execution_count": 3,
   "metadata": {},
   "outputs": [
    {
     "name": "stdout",
     "output_type": "stream",
     "text": [
      "[{'title': 'South Carolina Democratic Party Convention: Joe Biden', 'date': 'June 22, 2019', 'url': '//www.c-span.org/video/?461983-20/south-carolina-democratic-party-convention-joe-biden'}, {'title': \"Poor People's Campaign Presidential Forum, Joe Biden and Andrew Yang\", 'date': 'June 17, 2019', 'url': '//www.c-span.org/video/?461798-2/poor-peoples-campaign-presidential-forum-joe-biden-andrew-yang'}, {'title': 'Former Vice President Joe Biden Campaigns in Mount Pleasant, IowaJoe Biden in Mount Pleasant, Iowa', 'date': 'June 11, 2019', 'url': '//www.c-span.org/video/?461569-1/vice-president-joe-biden-campaigns-mount-pleasant-iowa'}, {'title': 'Joe Biden Holds Campaign Rally in Davenport, IowaJoe Biden Campaign Rally in Davenport, Iowa', 'date': 'June 11, 2019', 'url': '//www.c-span.org/video/?461636-1/joe-biden-holds-campaign-rally-davenport-iowa'}, {'title': 'Joe Biden Launches Presidential Campaign in PhiladelphiaJoe Biden Presidential Campaign Kick-Off', 'date': 'May 18, 2019', 'url': '//www.c-span.org/video/?460548-1/joe-biden-launches-presidential-campaign-philadelphia'}, {'title': 'Former Vice President Joe Biden Makes First Campaign Stop in New HampshireJoe Biden in Hampton, New Hampshire', 'date': 'May 13, 2019', 'url': '//www.c-span.org/video/?460665-1/vice-president-joe-biden-makes-campaign-stop-hampshire'}, {'title': 'Joe Biden Campaigns in Dubuque, IowaJoe Biden in Iowa', 'date': 'April 30, 2019', 'url': '//www.c-span.org/video/?460257-1/joe-biden-campaigns-dubuque-iowa'}, {'title': 'Former Vice President Joe Biden Begins White House Bid in PittsburghJoe Biden Campaign Rally in Pittsburgh', 'date': 'April 29, 2019', 'url': '//www.c-span.org/video/?460193-1/vice-president-joe-biden-begins-white-house-bid-pittsburgh'}]\n"
     ]
    }
   ],
   "source": [
    "rows = []\n",
    "videos = doc.find_all(class_=\"onevid\")\n",
    "for video in videos:\n",
    "    row = {}\n",
    "    row[\"title\"] = video.find(class_=\"title\").text.strip()\n",
    "    row[\"date\"] = video.find(class_=\"time\").text.strip()\n",
    "    row[\"url\"] = video.find(\"a\")[\"href\"]\n",
    "    rows.append(row)\n",
    "    \n",
    "print(rows)"
   ]
  },
  {
   "cell_type": "code",
   "execution_count": 4,
   "metadata": {},
   "outputs": [],
   "source": [
    "df_biden = pd.DataFrame(rows)"
   ]
  },
  {
   "cell_type": "code",
   "execution_count": 5,
   "metadata": {},
   "outputs": [
    {
     "data": {
      "text/html": [
       "<div>\n",
       "<style scoped>\n",
       "    .dataframe tbody tr th:only-of-type {\n",
       "        vertical-align: middle;\n",
       "    }\n",
       "\n",
       "    .dataframe tbody tr th {\n",
       "        vertical-align: top;\n",
       "    }\n",
       "\n",
       "    .dataframe thead th {\n",
       "        text-align: right;\n",
       "    }\n",
       "</style>\n",
       "<table border=\"1\" class=\"dataframe\">\n",
       "  <thead>\n",
       "    <tr style=\"text-align: right;\">\n",
       "      <th></th>\n",
       "      <th>date</th>\n",
       "      <th>title</th>\n",
       "      <th>url</th>\n",
       "    </tr>\n",
       "  </thead>\n",
       "  <tbody>\n",
       "    <tr>\n",
       "      <th>0</th>\n",
       "      <td>June 22, 2019</td>\n",
       "      <td>South Carolina Democratic Party Convention: Jo...</td>\n",
       "      <td>//www.c-span.org/video/?461983-20/south-caroli...</td>\n",
       "    </tr>\n",
       "    <tr>\n",
       "      <th>1</th>\n",
       "      <td>June 17, 2019</td>\n",
       "      <td>Poor People's Campaign Presidential Forum, Joe...</td>\n",
       "      <td>//www.c-span.org/video/?461798-2/poor-peoples-...</td>\n",
       "    </tr>\n",
       "    <tr>\n",
       "      <th>2</th>\n",
       "      <td>June 11, 2019</td>\n",
       "      <td>Former Vice President Joe Biden Campaigns in M...</td>\n",
       "      <td>//www.c-span.org/video/?461569-1/vice-presiden...</td>\n",
       "    </tr>\n",
       "    <tr>\n",
       "      <th>3</th>\n",
       "      <td>June 11, 2019</td>\n",
       "      <td>Joe Biden Holds Campaign Rally in Davenport, I...</td>\n",
       "      <td>//www.c-span.org/video/?461636-1/joe-biden-hol...</td>\n",
       "    </tr>\n",
       "    <tr>\n",
       "      <th>4</th>\n",
       "      <td>May 18, 2019</td>\n",
       "      <td>Joe Biden Launches Presidential Campaign in Ph...</td>\n",
       "      <td>//www.c-span.org/video/?460548-1/joe-biden-lau...</td>\n",
       "    </tr>\n",
       "    <tr>\n",
       "      <th>5</th>\n",
       "      <td>May 13, 2019</td>\n",
       "      <td>Former Vice President Joe Biden Makes First Ca...</td>\n",
       "      <td>//www.c-span.org/video/?460665-1/vice-presiden...</td>\n",
       "    </tr>\n",
       "    <tr>\n",
       "      <th>6</th>\n",
       "      <td>April 30, 2019</td>\n",
       "      <td>Joe Biden Campaigns in Dubuque, IowaJoe Biden ...</td>\n",
       "      <td>//www.c-span.org/video/?460257-1/joe-biden-cam...</td>\n",
       "    </tr>\n",
       "    <tr>\n",
       "      <th>7</th>\n",
       "      <td>April 29, 2019</td>\n",
       "      <td>Former Vice President Joe Biden Begins White H...</td>\n",
       "      <td>//www.c-span.org/video/?460193-1/vice-presiden...</td>\n",
       "    </tr>\n",
       "  </tbody>\n",
       "</table>\n",
       "</div>"
      ],
      "text/plain": [
       "             date                                              title  \\\n",
       "0   June 22, 2019  South Carolina Democratic Party Convention: Jo...   \n",
       "1   June 17, 2019  Poor People's Campaign Presidential Forum, Joe...   \n",
       "2   June 11, 2019  Former Vice President Joe Biden Campaigns in M...   \n",
       "3   June 11, 2019  Joe Biden Holds Campaign Rally in Davenport, I...   \n",
       "4    May 18, 2019  Joe Biden Launches Presidential Campaign in Ph...   \n",
       "5    May 13, 2019  Former Vice President Joe Biden Makes First Ca...   \n",
       "6  April 30, 2019  Joe Biden Campaigns in Dubuque, IowaJoe Biden ...   \n",
       "7  April 29, 2019  Former Vice President Joe Biden Begins White H...   \n",
       "\n",
       "                                                 url  \n",
       "0  //www.c-span.org/video/?461983-20/south-caroli...  \n",
       "1  //www.c-span.org/video/?461798-2/poor-peoples-...  \n",
       "2  //www.c-span.org/video/?461569-1/vice-presiden...  \n",
       "3  //www.c-span.org/video/?461636-1/joe-biden-hol...  \n",
       "4  //www.c-span.org/video/?460548-1/joe-biden-lau...  \n",
       "5  //www.c-span.org/video/?460665-1/vice-presiden...  \n",
       "6  //www.c-span.org/video/?460257-1/joe-biden-cam...  \n",
       "7  //www.c-span.org/video/?460193-1/vice-presiden...  "
      ]
     },
     "execution_count": 5,
     "metadata": {},
     "output_type": "execute_result"
    }
   ],
   "source": [
    "df_biden"
   ]
  },
  {
   "cell_type": "code",
   "execution_count": 6,
   "metadata": {},
   "outputs": [],
   "source": [
    "df_biden = df_biden[df_biden[\"title\"].str.contains(\"Biden\")]"
   ]
  },
  {
   "cell_type": "code",
   "execution_count": 7,
   "metadata": {},
   "outputs": [],
   "source": [
    "pd.set_option('display.max_colwidth', -1)"
   ]
  },
  {
   "cell_type": "code",
   "execution_count": 8,
   "metadata": {},
   "outputs": [
    {
     "data": {
      "text/plain": [
       "0    //www.c-span.org/video/?461983-20/south-carolina-democratic-party-convention-joe-biden         \n",
       "1    //www.c-span.org/video/?461798-2/poor-peoples-campaign-presidential-forum-joe-biden-andrew-yang\n",
       "2    //www.c-span.org/video/?461569-1/vice-president-joe-biden-campaigns-mount-pleasant-iowa        \n",
       "3    //www.c-span.org/video/?461636-1/joe-biden-holds-campaign-rally-davenport-iowa                 \n",
       "4    //www.c-span.org/video/?460548-1/joe-biden-launches-presidential-campaign-philadelphia         \n",
       "5    //www.c-span.org/video/?460665-1/vice-president-joe-biden-makes-campaign-stop-hampshire        \n",
       "6    //www.c-span.org/video/?460257-1/joe-biden-campaigns-dubuque-iowa                              \n",
       "7    //www.c-span.org/video/?460193-1/vice-president-joe-biden-begins-white-house-bid-pittsburgh    \n",
       "Name: url, dtype: object"
      ]
     },
     "execution_count": 8,
     "metadata": {},
     "output_type": "execute_result"
    }
   ],
   "source": [
    "df_biden[\"url\"]"
   ]
  },
  {
   "cell_type": "code",
   "execution_count": 9,
   "metadata": {},
   "outputs": [
    {
     "data": {
      "text/html": [
       "<div>\n",
       "<style scoped>\n",
       "    .dataframe tbody tr th:only-of-type {\n",
       "        vertical-align: middle;\n",
       "    }\n",
       "\n",
       "    .dataframe tbody tr th {\n",
       "        vertical-align: top;\n",
       "    }\n",
       "\n",
       "    .dataframe thead th {\n",
       "        text-align: right;\n",
       "    }\n",
       "</style>\n",
       "<table border=\"1\" class=\"dataframe\">\n",
       "  <thead>\n",
       "    <tr style=\"text-align: right;\">\n",
       "      <th></th>\n",
       "      <th>date</th>\n",
       "      <th>title</th>\n",
       "      <th>url</th>\n",
       "      <th>slug</th>\n",
       "    </tr>\n",
       "  </thead>\n",
       "  <tbody>\n",
       "    <tr>\n",
       "      <th>0</th>\n",
       "      <td>June 22, 2019</td>\n",
       "      <td>South Carolina Democratic Party Convention: Joe Biden</td>\n",
       "      <td>//www.c-span.org/video/?461983-20/south-carolina-democratic-party-convention-joe-biden</td>\n",
       "      <td>/?461983-20/south-carolina-democratic-party-convention-joe-biden</td>\n",
       "    </tr>\n",
       "    <tr>\n",
       "      <th>1</th>\n",
       "      <td>June 17, 2019</td>\n",
       "      <td>Poor People's Campaign Presidential Forum, Joe Biden and Andrew Yang</td>\n",
       "      <td>//www.c-span.org/video/?461798-2/poor-peoples-campaign-presidential-forum-joe-biden-andrew-yang</td>\n",
       "      <td>/?461798-2/poor-peoples-campaign-presidential-forum-joe-biden-andrew-yang</td>\n",
       "    </tr>\n",
       "    <tr>\n",
       "      <th>2</th>\n",
       "      <td>June 11, 2019</td>\n",
       "      <td>Former Vice President Joe Biden Campaigns in Mount Pleasant, IowaJoe Biden in Mount Pleasant, Iowa</td>\n",
       "      <td>//www.c-span.org/video/?461569-1/vice-president-joe-biden-campaigns-mount-pleasant-iowa</td>\n",
       "      <td>/?461569-1/vice-president-joe-biden-campaigns-mount-pleasant-iowa</td>\n",
       "    </tr>\n",
       "    <tr>\n",
       "      <th>3</th>\n",
       "      <td>June 11, 2019</td>\n",
       "      <td>Joe Biden Holds Campaign Rally in Davenport, IowaJoe Biden Campaign Rally in Davenport, Iowa</td>\n",
       "      <td>//www.c-span.org/video/?461636-1/joe-biden-holds-campaign-rally-davenport-iowa</td>\n",
       "      <td>/?461636-1/joe-biden-holds-campaign-rally-davenport-iowa</td>\n",
       "    </tr>\n",
       "    <tr>\n",
       "      <th>4</th>\n",
       "      <td>May 18, 2019</td>\n",
       "      <td>Joe Biden Launches Presidential Campaign in PhiladelphiaJoe Biden Presidential Campaign Kick-Off</td>\n",
       "      <td>//www.c-span.org/video/?460548-1/joe-biden-launches-presidential-campaign-philadelphia</td>\n",
       "      <td>/?460548-1/joe-biden-launches-presidential-campaign-philadelphia</td>\n",
       "    </tr>\n",
       "  </tbody>\n",
       "</table>\n",
       "</div>"
      ],
      "text/plain": [
       "            date  \\\n",
       "0  June 22, 2019   \n",
       "1  June 17, 2019   \n",
       "2  June 11, 2019   \n",
       "3  June 11, 2019   \n",
       "4  May 18, 2019    \n",
       "\n",
       "                                                                                                title  \\\n",
       "0  South Carolina Democratic Party Convention: Joe Biden                                                \n",
       "1  Poor People's Campaign Presidential Forum, Joe Biden and Andrew Yang                                 \n",
       "2  Former Vice President Joe Biden Campaigns in Mount Pleasant, IowaJoe Biden in Mount Pleasant, Iowa   \n",
       "3  Joe Biden Holds Campaign Rally in Davenport, IowaJoe Biden Campaign Rally in Davenport, Iowa         \n",
       "4  Joe Biden Launches Presidential Campaign in PhiladelphiaJoe Biden Presidential Campaign Kick-Off     \n",
       "\n",
       "                                                                                               url  \\\n",
       "0  //www.c-span.org/video/?461983-20/south-carolina-democratic-party-convention-joe-biden            \n",
       "1  //www.c-span.org/video/?461798-2/poor-peoples-campaign-presidential-forum-joe-biden-andrew-yang   \n",
       "2  //www.c-span.org/video/?461569-1/vice-president-joe-biden-campaigns-mount-pleasant-iowa           \n",
       "3  //www.c-span.org/video/?461636-1/joe-biden-holds-campaign-rally-davenport-iowa                    \n",
       "4  //www.c-span.org/video/?460548-1/joe-biden-launches-presidential-campaign-philadelphia            \n",
       "\n",
       "                                                                        slug  \n",
       "0  /?461983-20/south-carolina-democratic-party-convention-joe-biden           \n",
       "1  /?461798-2/poor-peoples-campaign-presidential-forum-joe-biden-andrew-yang  \n",
       "2  /?461569-1/vice-president-joe-biden-campaigns-mount-pleasant-iowa          \n",
       "3  /?461636-1/joe-biden-holds-campaign-rally-davenport-iowa                   \n",
       "4  /?460548-1/joe-biden-launches-presidential-campaign-philadelphia           "
      ]
     },
     "execution_count": 9,
     "metadata": {},
     "output_type": "execute_result"
    }
   ],
   "source": [
    "df_biden['slug'] = df_biden.url.str.replace(\"//www.c-span.org/video\",\"\")\n",
    "df_biden.head()"
   ]
  },
  {
   "cell_type": "code",
   "execution_count": 10,
   "metadata": {},
   "outputs": [],
   "source": [
    "row = df_biden.to_dict()"
   ]
  },
  {
   "cell_type": "code",
   "execution_count": 11,
   "metadata": {},
   "outputs": [],
   "source": [
    "def scrape_page(row):\n",
    "    url = f\"https://www.c-span.org/video{row['slug']}\"\n",
    "    print(\"Scraping\", url)\n",
    "    \n",
    "    response = requests.get(url)\n",
    "    doc = BeautifulSoup(response.text)\n",
    "\n",
    "    page = {}\n",
    "\n",
    "    page['location'] = doc.find(itemprop=\"contentLocation\").text.strip()\n",
    "  \n",
    "    return pd.Series(page)"
   ]
  },
  {
   "cell_type": "code",
   "execution_count": 12,
   "metadata": {},
   "outputs": [
    {
     "name": "stdout",
     "output_type": "stream",
     "text": [
      "Scraping https://www.c-span.org/video/?461983-20/south-carolina-democratic-party-convention-joe-biden\n",
      "Scraping https://www.c-span.org/video/?461983-20/south-carolina-democratic-party-convention-joe-biden\n",
      "Scraping https://www.c-span.org/video/?461798-2/poor-peoples-campaign-presidential-forum-joe-biden-andrew-yang\n",
      "Scraping https://www.c-span.org/video/?461569-1/vice-president-joe-biden-campaigns-mount-pleasant-iowa\n",
      "Scraping https://www.c-span.org/video/?461636-1/joe-biden-holds-campaign-rally-davenport-iowa\n",
      "Scraping https://www.c-span.org/video/?460548-1/joe-biden-launches-presidential-campaign-philadelphia\n",
      "Scraping https://www.c-span.org/video/?460665-1/vice-president-joe-biden-makes-campaign-stop-hampshire\n",
      "Scraping https://www.c-span.org/video/?460257-1/joe-biden-campaigns-dubuque-iowa\n",
      "Scraping https://www.c-span.org/video/?460193-1/vice-president-joe-biden-begins-white-house-bid-pittsburgh\n"
     ]
    }
   ],
   "source": [
    "scraped_df = df_biden.apply(scrape_page, axis=1)"
   ]
  },
  {
   "cell_type": "code",
   "execution_count": 13,
   "metadata": {},
   "outputs": [],
   "source": [
    "df_biden = df_biden.merge(scraped_df, left_index= True, right_index= True)"
   ]
  },
  {
   "cell_type": "code",
   "execution_count": 14,
   "metadata": {},
   "outputs": [],
   "source": [
    "df_biden['date'] =  df_biden['date'].str.replace(\",\", \"\")"
   ]
  },
  {
   "cell_type": "code",
   "execution_count": 15,
   "metadata": {},
   "outputs": [],
   "source": [
    "df_biden['date'] =  pd.to_datetime(df_biden['date'], format='%B %d %Y')"
   ]
  },
  {
   "cell_type": "code",
   "execution_count": 16,
   "metadata": {},
   "outputs": [],
   "source": [
    "df_biden = df_biden.sort_values(by='date')"
   ]
  },
  {
   "cell_type": "code",
   "execution_count": 17,
   "metadata": {},
   "outputs": [
    {
     "data": {
      "text/html": [
       "<div>\n",
       "<style scoped>\n",
       "    .dataframe tbody tr th:only-of-type {\n",
       "        vertical-align: middle;\n",
       "    }\n",
       "\n",
       "    .dataframe tbody tr th {\n",
       "        vertical-align: top;\n",
       "    }\n",
       "\n",
       "    .dataframe thead th {\n",
       "        text-align: right;\n",
       "    }\n",
       "</style>\n",
       "<table border=\"1\" class=\"dataframe\">\n",
       "  <thead>\n",
       "    <tr style=\"text-align: right;\">\n",
       "      <th></th>\n",
       "      <th>date</th>\n",
       "      <th>title</th>\n",
       "      <th>url</th>\n",
       "      <th>slug</th>\n",
       "      <th>location</th>\n",
       "    </tr>\n",
       "  </thead>\n",
       "  <tbody>\n",
       "    <tr>\n",
       "      <th>7</th>\n",
       "      <td>2019-04-29</td>\n",
       "      <td>Former Vice President Joe Biden Begins White House Bid in PittsburghJoe Biden Campaign Rally in Pittsburgh</td>\n",
       "      <td>//www.c-span.org/video/?460193-1/vice-president-joe-biden-begins-white-house-bid-pittsburgh</td>\n",
       "      <td>/?460193-1/vice-president-joe-biden-begins-white-house-bid-pittsburgh</td>\n",
       "      <td>Pittsburgh, Pennsylvania, United States</td>\n",
       "    </tr>\n",
       "    <tr>\n",
       "      <th>6</th>\n",
       "      <td>2019-04-30</td>\n",
       "      <td>Joe Biden Campaigns in Dubuque, IowaJoe Biden in Iowa</td>\n",
       "      <td>//www.c-span.org/video/?460257-1/joe-biden-campaigns-dubuque-iowa</td>\n",
       "      <td>/?460257-1/joe-biden-campaigns-dubuque-iowa</td>\n",
       "      <td>Dubuque, Iowa, United States</td>\n",
       "    </tr>\n",
       "    <tr>\n",
       "      <th>5</th>\n",
       "      <td>2019-05-13</td>\n",
       "      <td>Former Vice President Joe Biden Makes First Campaign Stop in New HampshireJoe Biden in Hampton, New Hampshire</td>\n",
       "      <td>//www.c-span.org/video/?460665-1/vice-president-joe-biden-makes-campaign-stop-hampshire</td>\n",
       "      <td>/?460665-1/vice-president-joe-biden-makes-campaign-stop-hampshire</td>\n",
       "      <td>Hampton, New Hampshire, United States</td>\n",
       "    </tr>\n",
       "    <tr>\n",
       "      <th>4</th>\n",
       "      <td>2019-05-18</td>\n",
       "      <td>Joe Biden Launches Presidential Campaign in PhiladelphiaJoe Biden Presidential Campaign Kick-Off</td>\n",
       "      <td>//www.c-span.org/video/?460548-1/joe-biden-launches-presidential-campaign-philadelphia</td>\n",
       "      <td>/?460548-1/joe-biden-launches-presidential-campaign-philadelphia</td>\n",
       "      <td>Philadelphia, Pennsylvania, United States</td>\n",
       "    </tr>\n",
       "    <tr>\n",
       "      <th>2</th>\n",
       "      <td>2019-06-11</td>\n",
       "      <td>Former Vice President Joe Biden Campaigns in Mount Pleasant, IowaJoe Biden in Mount Pleasant, Iowa</td>\n",
       "      <td>//www.c-span.org/video/?461569-1/vice-president-joe-biden-campaigns-mount-pleasant-iowa</td>\n",
       "      <td>/?461569-1/vice-president-joe-biden-campaigns-mount-pleasant-iowa</td>\n",
       "      <td>Mount Pleasant, Iowa, United States</td>\n",
       "    </tr>\n",
       "    <tr>\n",
       "      <th>3</th>\n",
       "      <td>2019-06-11</td>\n",
       "      <td>Joe Biden Holds Campaign Rally in Davenport, IowaJoe Biden Campaign Rally in Davenport, Iowa</td>\n",
       "      <td>//www.c-span.org/video/?461636-1/joe-biden-holds-campaign-rally-davenport-iowa</td>\n",
       "      <td>/?461636-1/joe-biden-holds-campaign-rally-davenport-iowa</td>\n",
       "      <td>Davenport, Iowa, United States</td>\n",
       "    </tr>\n",
       "    <tr>\n",
       "      <th>1</th>\n",
       "      <td>2019-06-17</td>\n",
       "      <td>Poor People's Campaign Presidential Forum, Joe Biden and Andrew Yang</td>\n",
       "      <td>//www.c-span.org/video/?461798-2/poor-peoples-campaign-presidential-forum-joe-biden-andrew-yang</td>\n",
       "      <td>/?461798-2/poor-peoples-campaign-presidential-forum-joe-biden-andrew-yang</td>\n",
       "      <td>Washington, District of Columbia, United States</td>\n",
       "    </tr>\n",
       "    <tr>\n",
       "      <th>0</th>\n",
       "      <td>2019-06-22</td>\n",
       "      <td>South Carolina Democratic Party Convention: Joe Biden</td>\n",
       "      <td>//www.c-span.org/video/?461983-20/south-carolina-democratic-party-convention-joe-biden</td>\n",
       "      <td>/?461983-20/south-carolina-democratic-party-convention-joe-biden</td>\n",
       "      <td>Columbia, South Carolina, United States</td>\n",
       "    </tr>\n",
       "  </tbody>\n",
       "</table>\n",
       "</div>"
      ],
      "text/plain": [
       "        date  \\\n",
       "7 2019-04-29   \n",
       "6 2019-04-30   \n",
       "5 2019-05-13   \n",
       "4 2019-05-18   \n",
       "2 2019-06-11   \n",
       "3 2019-06-11   \n",
       "1 2019-06-17   \n",
       "0 2019-06-22   \n",
       "\n",
       "                                                                                                           title  \\\n",
       "7  Former Vice President Joe Biden Begins White House Bid in PittsburghJoe Biden Campaign Rally in Pittsburgh      \n",
       "6  Joe Biden Campaigns in Dubuque, IowaJoe Biden in Iowa                                                           \n",
       "5  Former Vice President Joe Biden Makes First Campaign Stop in New HampshireJoe Biden in Hampton, New Hampshire   \n",
       "4  Joe Biden Launches Presidential Campaign in PhiladelphiaJoe Biden Presidential Campaign Kick-Off                \n",
       "2  Former Vice President Joe Biden Campaigns in Mount Pleasant, IowaJoe Biden in Mount Pleasant, Iowa              \n",
       "3  Joe Biden Holds Campaign Rally in Davenport, IowaJoe Biden Campaign Rally in Davenport, Iowa                    \n",
       "1  Poor People's Campaign Presidential Forum, Joe Biden and Andrew Yang                                            \n",
       "0  South Carolina Democratic Party Convention: Joe Biden                                                           \n",
       "\n",
       "                                                                                               url  \\\n",
       "7  //www.c-span.org/video/?460193-1/vice-president-joe-biden-begins-white-house-bid-pittsburgh       \n",
       "6  //www.c-span.org/video/?460257-1/joe-biden-campaigns-dubuque-iowa                                 \n",
       "5  //www.c-span.org/video/?460665-1/vice-president-joe-biden-makes-campaign-stop-hampshire           \n",
       "4  //www.c-span.org/video/?460548-1/joe-biden-launches-presidential-campaign-philadelphia            \n",
       "2  //www.c-span.org/video/?461569-1/vice-president-joe-biden-campaigns-mount-pleasant-iowa           \n",
       "3  //www.c-span.org/video/?461636-1/joe-biden-holds-campaign-rally-davenport-iowa                    \n",
       "1  //www.c-span.org/video/?461798-2/poor-peoples-campaign-presidential-forum-joe-biden-andrew-yang   \n",
       "0  //www.c-span.org/video/?461983-20/south-carolina-democratic-party-convention-joe-biden            \n",
       "\n",
       "                                                                        slug  \\\n",
       "7  /?460193-1/vice-president-joe-biden-begins-white-house-bid-pittsburgh       \n",
       "6  /?460257-1/joe-biden-campaigns-dubuque-iowa                                 \n",
       "5  /?460665-1/vice-president-joe-biden-makes-campaign-stop-hampshire           \n",
       "4  /?460548-1/joe-biden-launches-presidential-campaign-philadelphia            \n",
       "2  /?461569-1/vice-president-joe-biden-campaigns-mount-pleasant-iowa           \n",
       "3  /?461636-1/joe-biden-holds-campaign-rally-davenport-iowa                    \n",
       "1  /?461798-2/poor-peoples-campaign-presidential-forum-joe-biden-andrew-yang   \n",
       "0  /?461983-20/south-carolina-democratic-party-convention-joe-biden            \n",
       "\n",
       "                                          location  \n",
       "7  Pittsburgh, Pennsylvania, United States          \n",
       "6  Dubuque, Iowa, United States                     \n",
       "5  Hampton, New Hampshire, United States            \n",
       "4  Philadelphia, Pennsylvania, United States        \n",
       "2  Mount Pleasant, Iowa, United States              \n",
       "3  Davenport, Iowa, United States                   \n",
       "1  Washington, District of Columbia, United States  \n",
       "0  Columbia, South Carolina, United States          "
      ]
     },
     "execution_count": 17,
     "metadata": {},
     "output_type": "execute_result"
    }
   ],
   "source": [
    "df_biden"
   ]
  },
  {
   "cell_type": "code",
   "execution_count": 24,
   "metadata": {},
   "outputs": [],
   "source": [
    "df_biden = df_biden.drop(columns='url')"
   ]
  },
  {
   "cell_type": "code",
   "execution_count": 26,
   "metadata": {},
   "outputs": [],
   "source": [
    "df_biden.to_csv(\"biden.csv\", index=False)"
   ]
  }
 ],
 "metadata": {
  "kernelspec": {
   "display_name": "Python 3",
   "language": "python",
   "name": "python3"
  },
  "language_info": {
   "codemirror_mode": {
    "name": "ipython",
    "version": 3
   },
   "file_extension": ".py",
   "mimetype": "text/x-python",
   "name": "python",
   "nbconvert_exporter": "python",
   "pygments_lexer": "ipython3",
   "version": "3.7.3"
  }
 },
 "nbformat": 4,
 "nbformat_minor": 2
}
