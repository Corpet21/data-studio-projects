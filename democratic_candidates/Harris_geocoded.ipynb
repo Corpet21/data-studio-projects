{
 "cells": [
  {
   "cell_type": "code",
   "execution_count": 1,
   "metadata": {},
   "outputs": [],
   "source": [
    "import numpy as np\n",
    "import pandas as pd"
   ]
  },
  {
   "cell_type": "code",
   "execution_count": 2,
   "metadata": {},
   "outputs": [],
   "source": [
    "df = pd.read_csv(\"harris_fb_geocodio.csv\")"
   ]
  },
  {
   "cell_type": "code",
   "execution_count": 3,
   "metadata": {},
   "outputs": [],
   "source": [
    "df[\"properties.headline\"] = df[\"County\"] + \", \" + df[\"State\"] + \": \" +  df[\"guests\"].map(str) + np.where(df[\"guests\"]>1, ' guests', ' guest')"
   ]
  },
  {
   "cell_type": "code",
   "execution_count": 4,
   "metadata": {},
   "outputs": [],
   "source": [
    "df[\"properties.articles\"] = df[\"description\"]+ \", \" + df[\"location\"]"
   ]
  },
  {
   "cell_type": "code",
   "execution_count": 5,
   "metadata": {},
   "outputs": [],
   "source": [
    "df[\"properties.color\"] = \"#c0e7f6\""
   ]
  },
  {
   "cell_type": "code",
   "execution_count": 6,
   "metadata": {},
   "outputs": [],
   "source": [
    "def set_range(x):\n",
    "    if x in range(0, 10) :\n",
    "        return 5\n",
    "    elif x in range(10, 50):\n",
    "        return 10 \n",
    "    elif x in range(50, 100):\n",
    "        return 15\n",
    "    elif x in range(100, 200):\n",
    "        return 20\n",
    "    else:\n",
    "        return 30"
   ]
  },
  {
   "cell_type": "code",
   "execution_count": 7,
   "metadata": {},
   "outputs": [],
   "source": [
    "#df[\"properties.radius\"] = df.guests.apply(set_range)"
   ]
  },
  {
   "cell_type": "code",
   "execution_count": 8,
   "metadata": {},
   "outputs": [
    {
     "data": {
      "text/html": [
       "<div>\n",
       "<style scoped>\n",
       "    .dataframe tbody tr th:only-of-type {\n",
       "        vertical-align: middle;\n",
       "    }\n",
       "\n",
       "    .dataframe tbody tr th {\n",
       "        vertical-align: top;\n",
       "    }\n",
       "\n",
       "    .dataframe thead th {\n",
       "        text-align: right;\n",
       "    }\n",
       "</style>\n",
       "<table border=\"1\" class=\"dataframe\">\n",
       "  <thead>\n",
       "    <tr style=\"text-align: right;\">\n",
       "      <th></th>\n",
       "      <th>date</th>\n",
       "      <th>location</th>\n",
       "      <th>description</th>\n",
       "      <th>guests</th>\n",
       "      <th>state</th>\n",
       "      <th>Latitude</th>\n",
       "      <th>Longitude</th>\n",
       "      <th>Accuracy Score</th>\n",
       "      <th>Accuracy Type</th>\n",
       "      <th>Number</th>\n",
       "      <th>Street</th>\n",
       "      <th>City</th>\n",
       "      <th>State</th>\n",
       "      <th>County</th>\n",
       "      <th>Zip</th>\n",
       "      <th>Country</th>\n",
       "      <th>Source</th>\n",
       "      <th>properties.headline</th>\n",
       "      <th>properties.articles</th>\n",
       "      <th>properties.color</th>\n",
       "    </tr>\n",
       "  </thead>\n",
       "  <tbody>\n",
       "    <tr>\n",
       "      <th>0</th>\n",
       "      <td>JUN 15</td>\n",
       "      <td>Doolittle Community Center, Las Vegas, NV</td>\n",
       "      <td>Las Vegas Organizing Rally with Kamala Harris</td>\n",
       "      <td>273</td>\n",
       "      <td>NV</td>\n",
       "      <td>36.173720</td>\n",
       "      <td>-115.106470</td>\n",
       "      <td>1.0</td>\n",
       "      <td>place</td>\n",
       "      <td>NaN</td>\n",
       "      <td>NaN</td>\n",
       "      <td>Las Vegas</td>\n",
       "      <td>NV</td>\n",
       "      <td>Clark County</td>\n",
       "      <td>89101</td>\n",
       "      <td>US</td>\n",
       "      <td>TIGER/Line® dataset from the US Census Bureau</td>\n",
       "      <td>Clark County, NV: 273 guests</td>\n",
       "      <td>Las Vegas Organizing Rally with Kamala Harris...</td>\n",
       "      <td>#c0e7f6</td>\n",
       "    </tr>\n",
       "    <tr>\n",
       "      <th>1</th>\n",
       "      <td>JUN 13</td>\n",
       "      <td>1919 Hampton St, Columbia, SC</td>\n",
       "      <td>Columbia Kamala Harris for SC Office Opening</td>\n",
       "      <td>267</td>\n",
       "      <td>SC</td>\n",
       "      <td>34.008976</td>\n",
       "      <td>-81.023874</td>\n",
       "      <td>1.0</td>\n",
       "      <td>range_interpolation</td>\n",
       "      <td>1919.0</td>\n",
       "      <td>Hampton St</td>\n",
       "      <td>Columbia</td>\n",
       "      <td>SC</td>\n",
       "      <td>Richland County</td>\n",
       "      <td>29201</td>\n",
       "      <td>US</td>\n",
       "      <td>TIGER/Line® dataset from the US Census Bureau</td>\n",
       "      <td>Richland County, SC: 267 guests</td>\n",
       "      <td>Columbia Kamala Harris for SC Office Opening ...</td>\n",
       "      <td>#c0e7f6</td>\n",
       "    </tr>\n",
       "    <tr>\n",
       "      <th>2</th>\n",
       "      <td>JUN 10</td>\n",
       "      <td>2811 Jackson St, Dubuque, IA</td>\n",
       "      <td>Dubuque Meet and Greet with Kamala Harris</td>\n",
       "      <td>484</td>\n",
       "      <td>IA</td>\n",
       "      <td>42.523379</td>\n",
       "      <td>-90.677577</td>\n",
       "      <td>1.0</td>\n",
       "      <td>rooftop</td>\n",
       "      <td>2811.0</td>\n",
       "      <td>Jackson St</td>\n",
       "      <td>Dubuque</td>\n",
       "      <td>IA</td>\n",
       "      <td>Dubuque County</td>\n",
       "      <td>52001</td>\n",
       "      <td>US</td>\n",
       "      <td>Dubuque</td>\n",
       "      <td>Dubuque County, IA: 484 guests</td>\n",
       "      <td>Dubuque Meet and Greet with Kamala Harris , 2...</td>\n",
       "      <td>#c0e7f6</td>\n",
       "    </tr>\n",
       "    <tr>\n",
       "      <th>3</th>\n",
       "      <td>JUN 9</td>\n",
       "      <td>209 Jackson St, Waterloo, IA</td>\n",
       "      <td>Waterloo Town Hall with Kamala Harris</td>\n",
       "      <td>255</td>\n",
       "      <td>IA</td>\n",
       "      <td>42.505334</td>\n",
       "      <td>-92.326624</td>\n",
       "      <td>1.0</td>\n",
       "      <td>range_interpolation</td>\n",
       "      <td>209.0</td>\n",
       "      <td>Jackson St</td>\n",
       "      <td>Waterloo</td>\n",
       "      <td>IA</td>\n",
       "      <td>Black Hawk County</td>\n",
       "      <td>50703</td>\n",
       "      <td>US</td>\n",
       "      <td>TIGER/Line® dataset from the US Census Bureau</td>\n",
       "      <td>Black Hawk County, IA: 255 guests</td>\n",
       "      <td>Waterloo Town Hall with Kamala Harris , 209 J...</td>\n",
       "      <td>#c0e7f6</td>\n",
       "    </tr>\n",
       "    <tr>\n",
       "      <th>4</th>\n",
       "      <td>MAY 29</td>\n",
       "      <td>404 Vardry St, Greenville, SC</td>\n",
       "      <td>Greenville Education Town Hall with Kamala Ha...</td>\n",
       "      <td>642</td>\n",
       "      <td>SC</td>\n",
       "      <td>34.841817</td>\n",
       "      <td>-82.409740</td>\n",
       "      <td>1.0</td>\n",
       "      <td>rooftop</td>\n",
       "      <td>404.0</td>\n",
       "      <td>Vardry St</td>\n",
       "      <td>Greenville</td>\n",
       "      <td>SC</td>\n",
       "      <td>Greenville County</td>\n",
       "      <td>29601</td>\n",
       "      <td>US</td>\n",
       "      <td>Greenville</td>\n",
       "      <td>Greenville County, SC: 642 guests</td>\n",
       "      <td>Greenville Education Town Hall with Kamala Ha...</td>\n",
       "      <td>#c0e7f6</td>\n",
       "    </tr>\n",
       "  </tbody>\n",
       "</table>\n",
       "</div>"
      ],
      "text/plain": [
       "     date                                   location  \\\n",
       "0  JUN 15  Doolittle Community Center, Las Vegas, NV   \n",
       "1  JUN 13              1919 Hampton St, Columbia, SC   \n",
       "2  JUN 10               2811 Jackson St, Dubuque, IA   \n",
       "3   JUN 9               209 Jackson St, Waterloo, IA   \n",
       "4  MAY 29              404 Vardry St, Greenville, SC   \n",
       "\n",
       "                                         description  guests state   Latitude  \\\n",
       "0     Las Vegas Organizing Rally with Kamala Harris      273    NV  36.173720   \n",
       "1      Columbia Kamala Harris for SC Office Opening      267    SC  34.008976   \n",
       "2         Dubuque Meet and Greet with Kamala Harris      484    IA  42.523379   \n",
       "3             Waterloo Town Hall with Kamala Harris      255    IA  42.505334   \n",
       "4   Greenville Education Town Hall with Kamala Ha...     642    SC  34.841817   \n",
       "\n",
       "    Longitude  Accuracy Score        Accuracy Type  Number      Street  \\\n",
       "0 -115.106470             1.0                place     NaN         NaN   \n",
       "1  -81.023874             1.0  range_interpolation  1919.0  Hampton St   \n",
       "2  -90.677577             1.0              rooftop  2811.0  Jackson St   \n",
       "3  -92.326624             1.0  range_interpolation   209.0  Jackson St   \n",
       "4  -82.409740             1.0              rooftop   404.0   Vardry St   \n",
       "\n",
       "         City State             County    Zip Country  \\\n",
       "0   Las Vegas    NV       Clark County  89101      US   \n",
       "1    Columbia    SC    Richland County  29201      US   \n",
       "2     Dubuque    IA     Dubuque County  52001      US   \n",
       "3    Waterloo    IA  Black Hawk County  50703      US   \n",
       "4  Greenville    SC  Greenville County  29601      US   \n",
       "\n",
       "                                          Source  \\\n",
       "0  TIGER/Line® dataset from the US Census Bureau   \n",
       "1  TIGER/Line® dataset from the US Census Bureau   \n",
       "2                                        Dubuque   \n",
       "3  TIGER/Line® dataset from the US Census Bureau   \n",
       "4                                     Greenville   \n",
       "\n",
       "                 properties.headline  \\\n",
       "0       Clark County, NV: 273 guests   \n",
       "1    Richland County, SC: 267 guests   \n",
       "2     Dubuque County, IA: 484 guests   \n",
       "3  Black Hawk County, IA: 255 guests   \n",
       "4  Greenville County, SC: 642 guests   \n",
       "\n",
       "                                 properties.articles properties.color  \n",
       "0   Las Vegas Organizing Rally with Kamala Harris...          #c0e7f6  \n",
       "1   Columbia Kamala Harris for SC Office Opening ...          #c0e7f6  \n",
       "2   Dubuque Meet and Greet with Kamala Harris , 2...          #c0e7f6  \n",
       "3   Waterloo Town Hall with Kamala Harris , 209 J...          #c0e7f6  \n",
       "4   Greenville Education Town Hall with Kamala Ha...          #c0e7f6  "
      ]
     },
     "execution_count": 8,
     "metadata": {},
     "output_type": "execute_result"
    }
   ],
   "source": [
    "df.head()"
   ]
  },
  {
   "cell_type": "code",
   "execution_count": 9,
   "metadata": {},
   "outputs": [],
   "source": [
    "df[\"geometry.coordinates\"] = list(zip(df.Longitude, df.Latitude))\n"
   ]
  },
  {
   "cell_type": "code",
   "execution_count": 10,
   "metadata": {},
   "outputs": [],
   "source": [
    "df[\"geometry.type\"] = 'Point'"
   ]
  },
  {
   "cell_type": "code",
   "execution_count": 11,
   "metadata": {},
   "outputs": [],
   "source": [
    "df[\"candidate\"] = \"Harris\""
   ]
  },
  {
   "cell_type": "code",
   "execution_count": 12,
   "metadata": {},
   "outputs": [],
   "source": [
    "df.to_csv(\"harris_final.csv\")"
   ]
  },
  {
   "cell_type": "code",
   "execution_count": null,
   "metadata": {},
   "outputs": [],
   "source": []
  },
  {
   "cell_type": "code",
   "execution_count": null,
   "metadata": {},
   "outputs": [],
   "source": []
  }
 ],
 "metadata": {
  "kernelspec": {
   "display_name": "Python 3",
   "language": "python",
   "name": "python3"
  },
  "language_info": {
   "codemirror_mode": {
    "name": "ipython",
    "version": 3
   },
   "file_extension": ".py",
   "mimetype": "text/x-python",
   "name": "python",
   "nbconvert_exporter": "python",
   "pygments_lexer": "ipython3",
   "version": "3.7.3"
  }
 },
 "nbformat": 4,
 "nbformat_minor": 2
}
