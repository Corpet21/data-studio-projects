{
 "cells": [
  {
   "cell_type": "code",
   "execution_count": 1,
   "metadata": {},
   "outputs": [],
   "source": [
    "\n",
    "import pandas as pd\n",
    "import json"
   ]
  },
  {
   "cell_type": "code",
   "execution_count": 2,
   "metadata": {},
   "outputs": [],
   "source": [
    "sanders = pd.read_csv(\"sanders_final.csv\")"
   ]
  },
  {
   "cell_type": "code",
   "execution_count": 3,
   "metadata": {},
   "outputs": [],
   "source": [
    "harris = pd.read_csv(\"harris_final.csv\")"
   ]
  },
  {
   "cell_type": "code",
   "execution_count": 4,
   "metadata": {},
   "outputs": [],
   "source": [
    "warren = pd.read_csv(\"Warren_final.csv\")"
   ]
  },
  {
   "cell_type": "code",
   "execution_count": 5,
   "metadata": {},
   "outputs": [],
   "source": [
    "biden = pd.read_csv(\"Biden_final.csv\")"
   ]
  },
  {
   "cell_type": "code",
   "execution_count": 6,
   "metadata": {},
   "outputs": [],
   "source": [
    "beto = pd.read_csv(\"beto_final.csv\")"
   ]
  },
  {
   "cell_type": "code",
   "execution_count": 7,
   "metadata": {},
   "outputs": [
    {
     "name": "stderr",
     "output_type": "stream",
     "text": [
      "/Library/Frameworks/Python.framework/Versions/3.7/lib/python3.7/site-packages/ipykernel_launcher.py:1: FutureWarning: Sorting because non-concatenation axis is not aligned. A future version\n",
      "of pandas will change to not sort by default.\n",
      "\n",
      "To accept the future behavior, pass 'sort=False'.\n",
      "\n",
      "To retain the current behavior and silence the warning, pass 'sort=True'.\n",
      "\n",
      "  \"\"\"Entry point for launching an IPython kernel.\n"
     ]
    }
   ],
   "source": [
    "df = pd.concat([sanders, warren, harris, biden, beto], ignore_index=True)"
   ]
  },
  {
   "cell_type": "code",
   "execution_count": 8,
   "metadata": {},
   "outputs": [
    {
     "data": {
      "text/plain": [
       "count        403\n",
       "unique         5\n",
       "top       Warren\n",
       "freq         151\n",
       "Name: candidate, dtype: object"
      ]
     },
     "execution_count": 8,
     "metadata": {},
     "output_type": "execute_result"
    }
   ],
   "source": [
    "df[\"candidate\"].describe()"
   ]
  },
  {
   "cell_type": "code",
   "execution_count": 9,
   "metadata": {},
   "outputs": [],
   "source": [
    "#df = df.dropna()"
   ]
  },
  {
   "cell_type": "code",
   "execution_count": 10,
   "metadata": {},
   "outputs": [
    {
     "data": {
      "text/plain": [
       "array(['#f67e7d', '#fbdaee', '#c0e7f6', '#61c9bf', '#FFFACD'],\n",
       "      dtype=object)"
      ]
     },
     "execution_count": 10,
     "metadata": {},
     "output_type": "execute_result"
    }
   ],
   "source": [
    "df['properties.color'].unique()"
   ]
  },
  {
   "cell_type": "code",
   "execution_count": 11,
   "metadata": {},
   "outputs": [],
   "source": [
    "def Convert(string): \n",
    "    li = list(map(float, string[1:-1].split(','))) \n",
    "    return li"
   ]
  },
  {
   "cell_type": "code",
   "execution_count": 12,
   "metadata": {},
   "outputs": [],
   "source": [
    "df[\"geometry.coordinates\"] = df[\"geometry.coordinates\"].apply(lambda x: Convert(x))"
   ]
  },
  {
   "cell_type": "code",
   "execution_count": 13,
   "metadata": {},
   "outputs": [
    {
     "data": {
      "text/plain": [
       "0                       [-115.243726, 36.172521]\n",
       "1               [-71.465246, 42.756471999999995]\n",
       "2                        [-71.440138, 42.765264]\n",
       "3      [-115.06454599999999, 36.172996000000005]\n",
       "4                       [-119.779824, 39.492272]\n",
       "5                        [-70.991203, 43.262994]\n",
       "6                [-70.83672800000001, 42.939601]\n",
       "7                          [-71.30423, 42.80064]\n",
       "8                                     [0.0, 0.0]\n",
       "9                        [-91.528757, 41.643749]\n",
       "10      [-93.57217299999999, 41.672686999999996]\n",
       "11                       [-93.624483, 41.579341]\n",
       "12                       [-93.717232, 41.567138]\n",
       "13                         [-93.06909, 39.21808]\n",
       "14                       [-93.600254, 42.037879]\n",
       "15                       [-93.613221, 42.023477]\n",
       "16                       [-93.719324, 41.613954]\n",
       "17                         [-92.91631, 41.40805]\n",
       "18              [-114.97206100000001, 35.927901]\n",
       "19                      [-115.249544, 36.105967]\n",
       "20              [-71.465246, 42.756471999999995]\n",
       "21                      [-115.243726, 36.172521]\n",
       "22                       [-81.052437, 34.909109]\n",
       "23               [-81.02486400000001, 33.987454]\n",
       "24                       [-71.487347, 43.561981]\n",
       "25                       [-71.013202, 43.005895]\n",
       "26                       [-72.271743, 42.926429]\n",
       "27                       [-71.463001, 42.764276]\n",
       "28                       [-71.536101, 43.230314]\n",
       "29              [-71.443616, 43.065096999999994]\n",
       "                         ...                    \n",
       "373                      [-95.320471, 29.740419]\n",
       "374                                   [0.0, 0.0]\n",
       "375    [-106.61585900000001, 31.852715000000003]\n",
       "376                       [-115.10647, 36.17372]\n",
       "377                     [-115.221833, 36.123649]\n",
       "378              [-79.80999399999999, 32.932121]\n",
       "379                      [-79.940844, 32.780326]\n",
       "380                      [-80.821825, 33.490935]\n",
       "381              [-81.02486400000001, 33.987454]\n",
       "382                      [-81.052437, 34.909109]\n",
       "383                      [-71.481025, 43.576423]\n",
       "384                      [-71.462111, 42.988483]\n",
       "385                      [-71.013202, 43.005895]\n",
       "386              [-70.92294, 43.141329999999996]\n",
       "387              [-71.12722, 43.981320000000004]\n",
       "388                      [-71.694017, 43.710919]\n",
       "389              [-72.34676, 43.376740000000005]\n",
       "390                      [-72.294803, 42.965044]\n",
       "391                      [-77.853264, 40.797831]\n",
       "392              [-87.08458900000001, 46.253837]\n",
       "393             [-89.423861, 43.069559999999996]\n",
       "394             [-90.754799, 42.468115999999995]\n",
       "395              [-91.81214, 42.506054999999996]\n",
       "396                      [-92.327299, 42.488381]\n",
       "397              [-91.65875600000001, 41.971434]\n",
       "398                      [-91.450762, 41.939802]\n",
       "399             [-91.751808, 41.316629999999996]\n",
       "400                      [-91.553185, 40.965682]\n",
       "401              [-91.04711400000001, 41.427755]\n",
       "402                      [-91.164393, 40.898412]\n",
       "Name: geometry.coordinates, Length: 403, dtype: object"
      ]
     },
     "execution_count": 13,
     "metadata": {},
     "output_type": "execute_result"
    }
   ],
   "source": [
    "df[\"geometry.coordinates\"]"
   ]
  },
  {
   "cell_type": "code",
   "execution_count": 14,
   "metadata": {},
   "outputs": [],
   "source": [
    "df[\"properties.group_name\"] = df[\"candidate\"]"
   ]
  },
  {
   "cell_type": "code",
   "execution_count": 15,
   "metadata": {},
   "outputs": [],
   "source": [
    "def groups(name):\n",
    "    if name == 'Sanders':\n",
    "        return 1\n",
    "    elif name == 'Warren':\n",
    "        return 2\n",
    "    elif name == 'Biden':\n",
    "        return 3\n",
    "    elif name == \"O'Rourke\":\n",
    "        return 4\n",
    "    else:\n",
    "        return 5"
   ]
  },
  {
   "cell_type": "code",
   "execution_count": 16,
   "metadata": {},
   "outputs": [],
   "source": [
    "df['properties.group_id'] = df['properties.group_name'].apply(lambda x: groups(x))"
   ]
  },
  {
   "cell_type": "code",
   "execution_count": 17,
   "metadata": {},
   "outputs": [],
   "source": [
    "d_list = list(df[\"properties.group_name\"].unique())"
   ]
  },
  {
   "cell_type": "code",
   "execution_count": 18,
   "metadata": {},
   "outputs": [],
   "source": [
    "def set_range(x):\n",
    "    if x in range(0, 10) :\n",
    "        return 2\n",
    "    elif x in range(10, 50):\n",
    "        return 4 \n",
    "    elif x in range(50, 100):\n",
    "        return 6\n",
    "    elif x in range(100, 200):\n",
    "        return 8\n",
    "    else:\n",
    "        return 10"
   ]
  },
  {
   "cell_type": "code",
   "execution_count": 19,
   "metadata": {},
   "outputs": [],
   "source": [
    "df[\"properties.radius\"] = df.guests.apply(set_range)"
   ]
  },
  {
   "cell_type": "code",
   "execution_count": 20,
   "metadata": {},
   "outputs": [],
   "source": [
    "ok_json = json.loads(df.to_json(orient='records'))"
   ]
  },
  {
   "cell_type": "code",
   "execution_count": 21,
   "metadata": {},
   "outputs": [],
   "source": [
    "def process_to_geojson(file):\n",
    "    geo_data = {\"type\": \"FeatureCollection\", \"features\":[]}\n",
    "    for row in file:\n",
    "        this_dict = {\"type\": \"Feature\", \"properties\":{}, \"geometry\": {}}\n",
    "        for key, value in row.items():\n",
    "            key_names = key.split('.')\n",
    "            if key_names[0] == 'geometry':\n",
    "                this_dict['geometry'][key_names[1]] = value\n",
    "            if str(key_names[0]) == 'properties':\n",
    "                this_dict['properties'][key_names[1]] = value\n",
    "        geo_data['features'].append(this_dict)\n",
    "    return geo_data\n"
   ]
  },
  {
   "cell_type": "code",
   "execution_count": 22,
   "metadata": {},
   "outputs": [],
   "source": [
    "geo_format = process_to_geojson(ok_json)"
   ]
  },
  {
   "cell_type": "code",
   "execution_count": 23,
   "metadata": {},
   "outputs": [],
   "source": [
    "with open('geo-data.js', 'w') as outfile:\n",
    "    outfile.write(\"var infoData = \")\n",
    "\n",
    "with open('geo-data.js', 'a') as outfile:\n",
    "    json.dump(geo_format, outfile)\n"
   ]
  }
 ],
 "metadata": {
  "kernelspec": {
   "display_name": "Python 3",
   "language": "python",
   "name": "python3"
  },
  "language_info": {
   "codemirror_mode": {
    "name": "ipython",
    "version": 3
   },
   "file_extension": ".py",
   "mimetype": "text/x-python",
   "name": "python",
   "nbconvert_exporter": "python",
   "pygments_lexer": "ipython3",
   "version": "3.7.3"
  }
 },
 "nbformat": 4,
 "nbformat_minor": 2
}
